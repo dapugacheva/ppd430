{
 "cells": [
  {
   "cell_type": "markdown",
   "metadata": {},
   "source": [
    "# Module 11: Inferential Statistics\n",
    "\n",
    "Statistical inference is the process of using a sample to *infer* the characteristics of an underlying population (from which this sample was drawn) through estimation and hypothesis testing. Contrast this with descriptive statistics, which focus simply on describing the characteristics of the sample itself.\n",
    "\n",
    "Common goals of inferential statistics include:\n",
    "\n",
    "  - parameter estimation and confidence intervals\n",
    "  - hypothesis rejection\n",
    "  - prediction\n",
    "  - model selection\n",
    "\n",
    "Throughout, we will utilize the \"frequentist\" statistical paradigm:\n",
    "    \n",
    "  - frequentists think of probability as proportion of time some outcome occurs (relative frequency)\n",
    "  - given lots of repeated trials, how likely is the observed outcome?\n",
    "  - central concepts: statistical hypothesis testing, *p*-values, confidence intervals"
   ]
  },
  {
   "cell_type": "code",
   "execution_count": 1,
   "metadata": {},
   "outputs": [],
   "source": [
    "import numpy as np\n",
    "import pandas as pd\n",
    "import seaborn as sns\n",
    "from scipy import stats\n",
    "\n",
    "sns.set_style('whitegrid')\n",
    "sns.set_context('paper') \n",
    "\n",
    "np.random.seed(0) #consistent randomization"
   ]
  },
  {
   "cell_type": "code",
   "execution_count": 2,
   "metadata": {},
   "outputs": [
    {
     "data": {
      "text/plain": [
       "(8057, 27)"
      ]
     },
     "execution_count": 2,
     "metadata": {},
     "output_type": "execute_result"
    }
   ],
   "source": [
    "# load the CA tracts census data\n",
    "tracts = pd.read_csv('../../data/census_tracts_data_ca.csv', dtype={'GEOID10':str}).set_index('GEOID10')\n",
    "tracts.shape"
   ]
  },
  {
   "cell_type": "code",
   "execution_count": 3,
   "metadata": {},
   "outputs": [
    {
     "data": {
      "text/html": [
       "<div>\n",
       "<style scoped>\n",
       "    .dataframe tbody tr th:only-of-type {\n",
       "        vertical-align: middle;\n",
       "    }\n",
       "\n",
       "    .dataframe tbody tr th {\n",
       "        vertical-align: top;\n",
       "    }\n",
       "\n",
       "    .dataframe thead th {\n",
       "        text-align: right;\n",
       "    }\n",
       "</style>\n",
       "<table border=\"1\" class=\"dataframe\">\n",
       "  <thead>\n",
       "    <tr style=\"text-align: right;\">\n",
       "      <th></th>\n",
       "      <th>total_pop</th>\n",
       "      <th>median_age</th>\n",
       "      <th>pct_hispanic</th>\n",
       "      <th>pct_white</th>\n",
       "      <th>pct_black</th>\n",
       "      <th>pct_asian</th>\n",
       "      <th>pct_male</th>\n",
       "      <th>pct_single_family_home</th>\n",
       "      <th>med_home_value</th>\n",
       "      <th>med_rooms_per_home</th>\n",
       "      <th>...</th>\n",
       "      <th>pct_commute_drive_alone</th>\n",
       "      <th>pct_below_poverty</th>\n",
       "      <th>pct_college_grad_student</th>\n",
       "      <th>pct_same_residence_year_ago</th>\n",
       "      <th>pct_bachelors_degree</th>\n",
       "      <th>pct_english_only</th>\n",
       "      <th>pct_foreign_born</th>\n",
       "      <th>state</th>\n",
       "      <th>county</th>\n",
       "      <th>county_name</th>\n",
       "    </tr>\n",
       "    <tr>\n",
       "      <th>GEOID10</th>\n",
       "      <th></th>\n",
       "      <th></th>\n",
       "      <th></th>\n",
       "      <th></th>\n",
       "      <th></th>\n",
       "      <th></th>\n",
       "      <th></th>\n",
       "      <th></th>\n",
       "      <th></th>\n",
       "      <th></th>\n",
       "      <th></th>\n",
       "      <th></th>\n",
       "      <th></th>\n",
       "      <th></th>\n",
       "      <th></th>\n",
       "      <th></th>\n",
       "      <th></th>\n",
       "      <th></th>\n",
       "      <th></th>\n",
       "      <th></th>\n",
       "      <th></th>\n",
       "    </tr>\n",
       "  </thead>\n",
       "  <tbody>\n",
       "    <tr>\n",
       "      <th>06001437701</th>\n",
       "      <td>3745.0</td>\n",
       "      <td>29.4</td>\n",
       "      <td>59.6</td>\n",
       "      <td>11.7</td>\n",
       "      <td>9.9</td>\n",
       "      <td>303.0</td>\n",
       "      <td>49.7</td>\n",
       "      <td>19.2</td>\n",
       "      <td>310700.0</td>\n",
       "      <td>4.0</td>\n",
       "      <td>...</td>\n",
       "      <td>64.3</td>\n",
       "      <td>11.9</td>\n",
       "      <td>15.7</td>\n",
       "      <td>93.8</td>\n",
       "      <td>11.5</td>\n",
       "      <td>35.5</td>\n",
       "      <td>38.6</td>\n",
       "      <td>6</td>\n",
       "      <td>1</td>\n",
       "      <td>Alameda</td>\n",
       "    </tr>\n",
       "    <tr>\n",
       "      <th>06001437102</th>\n",
       "      <td>4586.0</td>\n",
       "      <td>36.6</td>\n",
       "      <td>34.2</td>\n",
       "      <td>10.1</td>\n",
       "      <td>8.5</td>\n",
       "      <td>1813.0</td>\n",
       "      <td>45.8</td>\n",
       "      <td>28.0</td>\n",
       "      <td>384400.0</td>\n",
       "      <td>4.8</td>\n",
       "      <td>...</td>\n",
       "      <td>78.1</td>\n",
       "      <td>10.4</td>\n",
       "      <td>45.5</td>\n",
       "      <td>91.2</td>\n",
       "      <td>22.0</td>\n",
       "      <td>32.9</td>\n",
       "      <td>48.8</td>\n",
       "      <td>6</td>\n",
       "      <td>1</td>\n",
       "      <td>Alameda</td>\n",
       "    </tr>\n",
       "    <tr>\n",
       "      <th>06001437101</th>\n",
       "      <td>7186.0</td>\n",
       "      <td>40.2</td>\n",
       "      <td>20.6</td>\n",
       "      <td>13.9</td>\n",
       "      <td>5.9</td>\n",
       "      <td>3623.0</td>\n",
       "      <td>49.4</td>\n",
       "      <td>76.1</td>\n",
       "      <td>582400.0</td>\n",
       "      <td>5.9</td>\n",
       "      <td>...</td>\n",
       "      <td>75.6</td>\n",
       "      <td>3.1</td>\n",
       "      <td>34.5</td>\n",
       "      <td>90.0</td>\n",
       "      <td>40.0</td>\n",
       "      <td>46.1</td>\n",
       "      <td>42.3</td>\n",
       "      <td>6</td>\n",
       "      <td>1</td>\n",
       "      <td>Alameda</td>\n",
       "    </tr>\n",
       "    <tr>\n",
       "      <th>06001450752</th>\n",
       "      <td>5854.0</td>\n",
       "      <td>38.4</td>\n",
       "      <td>8.0</td>\n",
       "      <td>22.7</td>\n",
       "      <td>4.3</td>\n",
       "      <td>3514.0</td>\n",
       "      <td>51.2</td>\n",
       "      <td>80.5</td>\n",
       "      <td>1008600.0</td>\n",
       "      <td>7.8</td>\n",
       "      <td>...</td>\n",
       "      <td>60.1</td>\n",
       "      <td>1.4</td>\n",
       "      <td>15.9</td>\n",
       "      <td>94.5</td>\n",
       "      <td>65.7</td>\n",
       "      <td>44.2</td>\n",
       "      <td>44.5</td>\n",
       "      <td>6</td>\n",
       "      <td>1</td>\n",
       "      <td>Alameda</td>\n",
       "    </tr>\n",
       "    <tr>\n",
       "      <th>06001450751</th>\n",
       "      <td>8963.0</td>\n",
       "      <td>36.7</td>\n",
       "      <td>4.8</td>\n",
       "      <td>22.4</td>\n",
       "      <td>1.2</td>\n",
       "      <td>6020.0</td>\n",
       "      <td>48.7</td>\n",
       "      <td>77.4</td>\n",
       "      <td>922500.0</td>\n",
       "      <td>6.6</td>\n",
       "      <td>...</td>\n",
       "      <td>59.3</td>\n",
       "      <td>2.7</td>\n",
       "      <td>10.9</td>\n",
       "      <td>78.8</td>\n",
       "      <td>78.4</td>\n",
       "      <td>35.8</td>\n",
       "      <td>50.1</td>\n",
       "      <td>6</td>\n",
       "      <td>1</td>\n",
       "      <td>Alameda</td>\n",
       "    </tr>\n",
       "  </tbody>\n",
       "</table>\n",
       "<p>5 rows × 27 columns</p>\n",
       "</div>"
      ],
      "text/plain": [
       "             total_pop  median_age  pct_hispanic  pct_white  pct_black  \\\n",
       "GEOID10                                                                  \n",
       "06001437701     3745.0        29.4          59.6       11.7        9.9   \n",
       "06001437102     4586.0        36.6          34.2       10.1        8.5   \n",
       "06001437101     7186.0        40.2          20.6       13.9        5.9   \n",
       "06001450752     5854.0        38.4           8.0       22.7        4.3   \n",
       "06001450751     8963.0        36.7           4.8       22.4        1.2   \n",
       "\n",
       "             pct_asian  pct_male  pct_single_family_home  med_home_value  \\\n",
       "GEOID10                                                                    \n",
       "06001437701      303.0      49.7                    19.2        310700.0   \n",
       "06001437102     1813.0      45.8                    28.0        384400.0   \n",
       "06001437101     3623.0      49.4                    76.1        582400.0   \n",
       "06001450752     3514.0      51.2                    80.5       1008600.0   \n",
       "06001450751     6020.0      48.7                    77.4        922500.0   \n",
       "\n",
       "             med_rooms_per_home  ...  pct_commute_drive_alone  \\\n",
       "GEOID10                          ...                            \n",
       "06001437701                 4.0  ...                     64.3   \n",
       "06001437102                 4.8  ...                     78.1   \n",
       "06001437101                 5.9  ...                     75.6   \n",
       "06001450752                 7.8  ...                     60.1   \n",
       "06001450751                 6.6  ...                     59.3   \n",
       "\n",
       "             pct_below_poverty  pct_college_grad_student  \\\n",
       "GEOID10                                                    \n",
       "06001437701               11.9                      15.7   \n",
       "06001437102               10.4                      45.5   \n",
       "06001437101                3.1                      34.5   \n",
       "06001450752                1.4                      15.9   \n",
       "06001450751                2.7                      10.9   \n",
       "\n",
       "             pct_same_residence_year_ago  pct_bachelors_degree  \\\n",
       "GEOID10                                                          \n",
       "06001437701                         93.8                  11.5   \n",
       "06001437102                         91.2                  22.0   \n",
       "06001437101                         90.0                  40.0   \n",
       "06001450752                         94.5                  65.7   \n",
       "06001450751                         78.8                  78.4   \n",
       "\n",
       "             pct_english_only  pct_foreign_born  state  county  county_name  \n",
       "GEOID10                                                                      \n",
       "06001437701              35.5              38.6      6       1      Alameda  \n",
       "06001437102              32.9              48.8      6       1      Alameda  \n",
       "06001437101              46.1              42.3      6       1      Alameda  \n",
       "06001450752              44.2              44.5      6       1      Alameda  \n",
       "06001450751              35.8              50.1      6       1      Alameda  \n",
       "\n",
       "[5 rows x 27 columns]"
      ]
     },
     "execution_count": 3,
     "metadata": {},
     "output_type": "execute_result"
    }
   ],
   "source": [
    "tracts.head()"
   ]
  },
  {
   "cell_type": "markdown",
   "metadata": {},
   "source": [
    "## 1. Standardization and *z*-scores"
   ]
  },
  {
   "cell_type": "code",
   "execution_count": 4,
   "metadata": {},
   "outputs": [
    {
     "data": {
      "text/plain": [
       "count    8010.000000\n",
       "mean       37.685381\n",
       "std         7.802376\n",
       "min        16.500000\n",
       "25%        32.200000\n",
       "50%        36.600000\n",
       "75%        42.400000\n",
       "max        78.200000\n",
       "Name: median_age, dtype: float64"
      ]
     },
     "execution_count": 4,
     "metadata": {},
     "output_type": "execute_result"
    }
   ],
   "source": [
    "# create variable x of the tracts' median age column\n",
    "x = tracts['median_age'].dropna()\n",
    "x.describe()"
   ]
  },
  {
   "cell_type": "code",
   "execution_count": 5,
   "metadata": {},
   "outputs": [
    {
     "data": {
      "text/plain": [
       "GEOID10\n",
       "06001437701    29.4\n",
       "06001437102    36.6\n",
       "06001437101    40.2\n",
       "06001450752    38.4\n",
       "06001450751    36.7\n",
       "Name: median_age, dtype: float64"
      ]
     },
     "execution_count": 5,
     "metadata": {},
     "output_type": "execute_result"
    }
   ],
   "source": [
    "# raw data\n",
    "x.head()"
   ]
  },
  {
   "cell_type": "code",
   "execution_count": 6,
   "metadata": {},
   "outputs": [
    {
     "data": {
      "text/plain": [
       "GEOID10\n",
       "06001437701   -1.061905\n",
       "06001437102   -0.139109\n",
       "06001437101    0.322289\n",
       "06001450752    0.091590\n",
       "06001450751   -0.126292\n",
       "Name: median_age, dtype: float64"
      ]
     },
     "execution_count": 6,
     "metadata": {},
     "output_type": "execute_result"
    }
   ],
   "source": [
    "# calculate z-scores (i.e., standardize the median age raw data)\n",
    "x_stdrd = (x - x.mean()) / x.std()\n",
    "x_stdrd.head()"
   ]
  },
  {
   "cell_type": "markdown",
   "metadata": {},
   "source": [
    "## 2. Central limit theorem and standard errors"
   ]
  },
  {
   "cell_type": "code",
   "execution_count": 7,
   "metadata": {},
   "outputs": [
    {
     "data": {
      "image/png": "[encoded data removed]",
      "text/plain": [
       "<Figure size 432x288 with 1 Axes>"
      ]
     },
     "metadata": {},
     "output_type": "display_data"
    }
   ],
   "source": [
    "# median household income is not normally distributed\n",
    "pop = tracts['med_household_income'].dropna()\n",
    "ax = sns.histplot(pop, stat='density', label='observed', color='orange')\n",
    "ax.set_xlim(-50000, 250000)\n",
    "\n",
    "# simulate random normally-distributed data with the same mean and std\n",
    "normal = np.random.normal(loc=pop.mean(), scale=pop.std(), size=100000)\n",
    "ax = sns.histplot(normal, stat='density', label='normal', zorder=-1)\n",
    "l = ax.legend()"
   ]
  },
  {
   "cell_type": "code",
   "execution_count": 8,
   "metadata": {},
   "outputs": [
    {
     "data": {
      "text/plain": [
       "72648.72"
      ]
     },
     "execution_count": 8,
     "metadata": {},
     "output_type": "execute_result"
    }
   ],
   "source": [
    "# draw 1 simple random sample (of size n) and calculate its mean\n",
    "n = 100 #sample size\n",
    "sample = pop.sample(n)\n",
    "sample.mean()"
   ]
  },
  {
   "cell_type": "code",
   "execution_count": 9,
   "metadata": {},
   "outputs": [
    {
     "data": {
      "text/plain": [
       "[71752.08, 82727.03, 81590.01, 69639.26, 73337.84]"
      ]
     },
     "execution_count": 9,
     "metadata": {},
     "output_type": "execute_result"
    }
   ],
   "source": [
    "# simulate the CLT: draw 200 random samples and calculate their means\n",
    "num_of_samples = 200\n",
    "sample_means = []\n",
    "for i in range(num_of_samples):\n",
    "    sample = pop.sample(n)\n",
    "    sample_means.append(sample.mean())\n",
    "\n",
    "# the sample mean is different every time, due to randomness\n",
    "sample_means[0:5]"
   ]
  },
  {
   "cell_type": "code",
   "execution_count": 10,
   "metadata": {},
   "outputs": [
    {
     "data": {
      "image/png": "[encoded data removed]",
      "text/plain": [
       "<Figure size 432x288 with 1 Axes>"
      ]
     },
     "metadata": {},
     "output_type": "display_data"
    }
   ],
   "source": [
    "# plot the distribution of all the sample means we calculated\n",
    "ax = sns.histplot(sample_means, stat='density', kde=True)"
   ]
  },
  {
   "cell_type": "code",
   "execution_count": 11,
   "metadata": {},
   "outputs": [],
   "source": [
    "# now it's your turn\n",
    "# experiment with different numbers of samples and different sample sizes above\n",
    "# what happens to our curve?\n"
   ]
  },
  {
   "cell_type": "markdown",
   "metadata": {},
   "source": [
    "The plot above visualizes the (simulated) **sampling distribution** of the mean. The **standard error** of the mean is the standard deviation of its sampling distribution and is formally calculated as the standard deviation of the population divided by the square root of the sample size. The standard error measures how much random variation we expect from samples of a given size drawn from a population, just due to chance."
   ]
  },
  {
   "cell_type": "code",
   "execution_count": 12,
   "metadata": {},
   "outputs": [
    {
     "data": {
      "text/plain": [
       "3577.994284381713"
      ]
     },
     "execution_count": 12,
     "metadata": {},
     "output_type": "execute_result"
    }
   ],
   "source": [
    "# usual calculation of the standard error (i.e., pop's std dev divided by square root of sample size)\n",
    "pop.std() / n**0.5"
   ]
  },
  {
   "cell_type": "code",
   "execution_count": 13,
   "metadata": {},
   "outputs": [
    {
     "data": {
      "text/plain": [
       "3806.608415720166"
      ]
     },
     "execution_count": 13,
     "metadata": {},
     "output_type": "execute_result"
    }
   ],
   "source": [
    "# our simulated estimate of the standard error (i.e., the std dev of the sampling distribution)\n",
    "pd.Series(sample_means).std()"
   ]
  },
  {
   "cell_type": "markdown",
   "metadata": {},
   "source": [
    "The **central limit theorem** tells us that if you have a large enough sample size (typically *n* > 40), the sampling distribution of the mean will be normally distributed even if the variable is not. In our example, median household income values are not normally distributed. But if we take lots of samples (as in our simulation above), we can visualize that their means are indeed normally distributed.\n",
    "\n",
    "This is the fundamental property that allows us to conduct inference with specific levels of confidence, based on our knowledge of the shape of the normal distribution (and the related *t*-distribution, which we use when we don't know the population's distribution). Remember the 68–95–99.7 rule."
   ]
  },
  {
   "cell_type": "markdown",
   "metadata": {},
   "source": [
    "## 3. Estimating parameters and confidence intervals\n",
    "\n",
    "**Confidence intervals** rely on the concept of a **margin of error** which in turn relies on the concept of the **standard error**. We will use statistical inference to estimate a population parameter from a sample. Here, our population = all tracts in California and the parameter we want to estimate is the mean tract median household income."
   ]
  },
  {
   "cell_type": "code",
   "execution_count": 14,
   "metadata": {},
   "outputs": [],
   "source": [
    "# population's average tract-level median income\n",
    "pop = tracts['med_household_income']"
   ]
  },
  {
   "cell_type": "markdown",
   "metadata": {},
   "source": [
    "Now let's *pretend* we don't actually know the full population, but can only study a sample."
   ]
  },
  {
   "cell_type": "code",
   "execution_count": 15,
   "metadata": {},
   "outputs": [],
   "source": [
    "# draw a simple random sample\n",
    "n = 100\n",
    "sample = pop.sample(n).dropna()"
   ]
  },
  {
   "cell_type": "code",
   "execution_count": 16,
   "metadata": {},
   "outputs": [
    {
     "data": {
      "text/plain": [
       "80676.0101010101"
      ]
     },
     "execution_count": 16,
     "metadata": {},
     "output_type": "execute_result"
    }
   ],
   "source": [
    "# calculate a descriptive statistic from the sample\n",
    "sample.mean()"
   ]
  },
  {
   "cell_type": "markdown",
   "metadata": {},
   "source": [
    "How similar is our sample mean to our population mean? Is it a good estimate? We can't evaluate this if we don't know the full population!\n",
    "\n",
    "We have calculated a **point estimate** of the population mean. Let's calculate an **interval estimate** of it instead.\n",
    "\n",
    "Workflow:\n",
    "\n",
    "  1. Determine your desired confidence level.\n",
    "  2. Calculate your sample's degrees of freedom, mean, and standard error of the mean\n",
    "  3. Calculate the interval estimate using the *t*-distribution (because population std dev is \"unknown\")\n",
    "  \n",
    "Recall that earlier we said the standard error = the standard deviation of the population divided by the square root of the sample size. If we don't know the standard deviation of the population, we have to estimate it using the standard deviation of the sample instead."
   ]
  },
  {
   "cell_type": "code",
   "execution_count": 17,
   "metadata": {},
   "outputs": [
    {
     "data": {
      "text/plain": [
       "(72016, 89336)"
      ]
     },
     "execution_count": 17,
     "metadata": {},
     "output_type": "execute_result"
    }
   ],
   "source": [
    "# calculate confidence interval using t-distribution \n",
    "conf = 0.95 #my chosen confidence level\n",
    "mean = sample.mean() #the sample's mean\n",
    "sem = sample.std() / sample.count()**0.5 #estimated standard error of the mean\n",
    "dof = sample.count() - 1 #degrees of freedom\n",
    "lower, upper = stats.t.interval(conf, dof, loc=mean, scale=sem)\n",
    "\n",
    "# with 95% confidence, the true population mean is between these two values\n",
    "round(lower), round(upper)"
   ]
  },
  {
   "cell_type": "code",
   "execution_count": 18,
   "metadata": {},
   "outputs": [
    {
     "data": {
      "text/plain": [
       "8659.63445670664"
      ]
     },
     "execution_count": 18,
     "metadata": {},
     "output_type": "execute_result"
    }
   ],
   "source": [
    "# calculate the margin of error\n",
    "# our confidence interval = the mean ± the margin of error\n",
    "moe = upper - sample.mean()\n",
    "moe"
   ]
  },
  {
   "cell_type": "markdown",
   "metadata": {},
   "source": [
    "The margin of error represents our statistical **uncertainty**. To look at this another way... the margin of error at 95% confidence is *approximately* 2 standard errors of the statistic, because 95% of the statistic's (normal) sampling distribution is within *approximately* 2 standard deviations of its mean. Similar for 99.7% confidence and 3 approx standard errors. Remember the 68–95–99.7 rule."
   ]
  },
  {
   "cell_type": "code",
   "execution_count": 19,
   "metadata": {},
   "outputs": [
    {
     "data": {
      "text/plain": [
       "8727.413934040442"
      ]
     },
     "execution_count": 19,
     "metadata": {},
     "output_type": "execute_result"
    }
   ],
   "source": [
    "# what is the value of 2 standard errors (of the mean)\n",
    "sem * 2"
   ]
  },
  {
   "cell_type": "code",
   "execution_count": 20,
   "metadata": {},
   "outputs": [
    {
     "name": "stdout",
     "output_type": "stream",
     "text": [
      "72016 – 89336 (95% confidence interval)\n",
      "80676 ± 8660 (at 95% confidence level)\n"
     ]
    }
   ],
   "source": [
    "# print out the interval estimate nicely (with fancy complicated python string formatting)\n",
    "print(f'{lower:0.0f} – {upper:0.0f} ({conf*100:0.0f}% confidence interval)')\n",
    "print(f'{mean:0.0f} ± {moe:0.0f} (at {conf*100:0.0f}% confidence level)')"
   ]
  },
  {
   "cell_type": "markdown",
   "metadata": {},
   "source": [
    "We are 95% confident that this interval contains the true population parameter value. That is, if we were to repeat this process many times (sampling then computing CI), on average 95% of the CIs would contain the true population parameter value (and, importantly, 5% wouldn't). One note: remember that you cannot just compare two estimates' MOEs to see if they overlap as proof of insignificance.\n",
    "\n",
    "What happens if your CI includes 0? Remember the ACS and its margins of error."
   ]
  },
  {
   "cell_type": "code",
   "execution_count": 21,
   "metadata": {},
   "outputs": [
    {
     "data": {
      "text/plain": [
       "73248.65101682149"
      ]
     },
     "execution_count": 21,
     "metadata": {},
     "output_type": "execute_result"
    }
   ],
   "source": [
    "# so, what is the true population parameter value?\n",
    "pop.mean()"
   ]
  },
  {
   "cell_type": "code",
   "execution_count": 22,
   "metadata": {},
   "outputs": [],
   "source": [
    "# now it's your turn\n",
    "# try different sample sizes and confidence levels: how do these change the interval estimate's size?\n",
    "# then randomly sample 100 tract-level median home values then calculate the mean and 99% confidence interval\n"
   ]
  },
  {
   "cell_type": "markdown",
   "metadata": {},
   "source": [
    "## 4. Hypothesis testing: *t*-tests and difference-in-means\n",
    "\n",
    "Is the difference between two groups statistically significant?\n",
    "\n",
    "Let's say I'm interested in the home value race/ethnicity gap. Home values are a key pathway to wealth-building in America, but structural gaps exist between different racial/ethnic groups as a function of history, politics, immigration, and discrimination. Given that theory, I want to hypothesis test it. My hypothesis is that typical home values in majority black tracts are higher than those in majority hispanic tracts.\n",
    "\n",
    "For the sake of this example, let's pretend like these tracts are just a sample of all the tracts."
   ]
  },
  {
   "cell_type": "code",
   "execution_count": 23,
   "metadata": {},
   "outputs": [],
   "source": [
    "# choose a variable\n",
    "var = 'med_home_value'"
   ]
  },
  {
   "cell_type": "code",
   "execution_count": 24,
   "metadata": {},
   "outputs": [],
   "source": [
    "# first get only LA county tracts\n",
    "tracts_la = tracts[tracts['county_name']=='Los Angeles']\n",
    "\n",
    "# let group1 = our variable of interest in black majority tracts\n",
    "black_tracts = tracts_la[tracts_la['pct_black'] > 50]\n",
    "group1 = black_tracts[var].dropna()\n",
    "\n",
    "# let group2 = our variable of interest in hispanic majority tracts\n",
    "hispanic_tracts = tracts_la[tracts_la['pct_hispanic'] > 50]\n",
    "group2 = hispanic_tracts[var].dropna()"
   ]
  },
  {
   "cell_type": "code",
   "execution_count": 25,
   "metadata": {},
   "outputs": [
    {
     "data": {
      "image/png": "[encoded data removed]",
      "text/plain": [
       "<Figure size 432x288 with 1 Axes>"
      ]
     },
     "metadata": {},
     "output_type": "display_data"
    }
   ],
   "source": [
    "# what are the distributions of these two groups?\n",
    "ax = sns.histplot(group1, label='group1', stat='density')\n",
    "ax = sns.histplot(group2, label='group2', stat='density', color='orange', ax=ax)\n",
    "l = ax.legend()"
   ]
  },
  {
   "cell_type": "code",
   "execution_count": 26,
   "metadata": {},
   "outputs": [
    {
     "name": "stdout",
     "output_type": "stream",
     "text": [
      "407850\n",
      "388226\n"
     ]
    }
   ],
   "source": [
    "print(int(group1.mean()))\n",
    "print(int(group2.mean()))"
   ]
  },
  {
   "cell_type": "code",
   "execution_count": 27,
   "metadata": {},
   "outputs": [
    {
     "data": {
      "text/plain": [
       "19624.477793199185"
      ]
     },
     "execution_count": 27,
     "metadata": {},
     "output_type": "execute_result"
    }
   ],
   "source": [
    "# calculate difference in means\n",
    "group1.mean() - group2.mean()"
   ]
  },
  {
   "cell_type": "markdown",
   "metadata": {},
   "source": [
    "The average majority-black tract's median home value is approx $20,000 higher than the average majority-hispanic tract's. That seems like a lot! But is it **statistically significant**? To determine this, we calculate the *t*-statistic and its *p*-value."
   ]
  },
  {
   "cell_type": "code",
   "execution_count": 28,
   "metadata": {},
   "outputs": [
    {
     "name": "stdout",
     "output_type": "stream",
     "text": [
      "1.2072736450237291\n",
      "0.1160893280434774\n"
     ]
    }
   ],
   "source": [
    "# compute the t-stat and its p-value\n",
    "t_statistic, p_value = stats.ttest_ind(group1, group2, equal_var=False, nan_policy='omit')\n",
    "p_value = p_value / 2 #convert two-tailed p-value to one-tailed\n",
    "print(t_statistic)\n",
    "print(p_value) "
   ]
  },
  {
   "cell_type": "markdown",
   "metadata": {},
   "source": [
    "There is a 12% chance of getting a *t*-statistic at least this large (in a one-tailed *t*-test) just by random chance from sampling error. Notice that I converted my two-tailed p-value to a one-tailed p-value because my hypothesis is directional: it proposes that group 1's mean is greater than group 2's, rather than them just being unequal to each other.\n",
    "\n",
    "A *t*-statistic is similar to a *z*-score in that it tells us how large some statistic is in relation to its standard error, using the *t*-distribution rather than the normal distribution. We use it to tell us how likely it is that we'd see a value of this magnitude just from random chance."
   ]
  },
  {
   "cell_type": "code",
   "execution_count": 29,
   "metadata": {},
   "outputs": [
    {
     "data": {
      "text/plain": [
       "False"
      ]
     },
     "execution_count": 29,
     "metadata": {},
     "output_type": "execute_result"
    }
   ],
   "source": [
    "# is the difference in means statistically significant?\n",
    "alpha = 0.05 #significance level\n",
    "p_value < alpha"
   ]
  },
  {
   "cell_type": "markdown",
   "metadata": {},
   "source": [
    "Remember my original hypothesis: \"home values in majority black are higher than those in majority hispanic tracts.\" Let's express it formally in the parlance of statistical hypothesis testing:\n",
    "\n",
    "  - H0: majority-black tract home values are not higher (null hypothesis)\n",
    "  - H1: majority-black tract home values are higher (alternative hypothesis)\n",
    "\n",
    "The two possible outcomes of a hypothesis test are 1) I reject the null hypothesis or 2) I cannot reject the null hypothesis.\n",
    "\n",
    "My *p*-value is not less than the desired significance level, therefore I cannot reject the null hypothesis. You can only reject the null hypothesis if *p* is less than the significance level (which itself is an arbitrarily chosen probability threshold). Rejecting the null hypothesis does not mean that we've proven the alternative hypothesis, but rather just that it provides some evidence for this alternative. Remember Karl Popper and falsification.\n",
    "\n",
    "\n",
    "  - **Type I Error** (false positive): reject the null hypothesis when it is true\n",
    "  - **Type II Error** (false negative): fail to reject the null hypothesis when it is false\n",
    "\n",
    "Our alpha value (significance level) is the Type I error rate that we are willing to accept. Essentially 1 in 20 times we will claim a significant difference just due to random chance. The beta value is the Type II error rate, and 1 - beta = your statistical power (probability of correctly rejecting the null hypothesis when the alternative hypothesis is true)."
   ]
  },
  {
   "cell_type": "code",
   "execution_count": 30,
   "metadata": {},
   "outputs": [],
   "source": [
    "# now it's your turn\n",
    "# what is the difference in mean tract-level median home values in majority white vs majority black tracts?\n",
    "# is it statistically significant?\n",
    "# what if you randomly sample just 25 tracts from each group: is their difference significant?\n"
   ]
  },
  {
   "cell_type": "code",
   "execution_count": null,
   "metadata": {},
   "outputs": [],
   "source": []
  }
 ],
 "metadata": {
  "kernelspec": {
   "display_name": "Python (ppd430)",
   "language": "python",
   "name": "ppd430"
  },
  "language_info": {
   "codemirror_mode": {
    "name": "ipython",
    "version": 3
   },
   "file_extension": ".py",
   "mimetype": "text/x-python",
   "name": "python",
   "nbconvert_exporter": "python",
   "pygments_lexer": "ipython3",
   "version": "3.9.5"
  }
 },
 "nbformat": 4,
 "nbformat_minor": 4
}
