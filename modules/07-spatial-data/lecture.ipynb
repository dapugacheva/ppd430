{
 "cells": [
  {
   "cell_type": "markdown",
   "metadata": {},
   "source": [
    "# Module 7: Introduction to Spatial Data\n",
    "\n",
    "Today we will introduce the basics of working with spatial data, including loading spatial datasets as shapefiles or CSV files, projecting data, performing geometric operations, spatially joining multiple datasets together, and simple mapping."
   ]
  },
  {
   "cell_type": "code",
   "execution_count": null,
   "metadata": {},
   "outputs": [],
   "source": [
    "import pandas as pd\n",
    "import geopandas as gpd\n",
    "from shapely.geometry import Point"
   ]
  },
  {
   "cell_type": "markdown",
   "metadata": {},
   "source": [
    "## 1. Quick overview of key concepts\n",
    "\n",
    "### What is GIS?\n",
    "\n",
    "GIS stands for geographic information system. GIS software lets you work with spatial data, that is, data associated with locations on the Earth. These locations are represented with coordinates: longitude (x), latitude (y), and often elevation (z). With GIS software you can collect, edit, query, analyze, and visualize spatial data. Examples of GIS software include ArcGIS, QGIS, PostGIS, and GeoPandas.\n",
    "\n",
    "### Some terminology:\n",
    "\n",
    "- **geoid**: (that's *gee-oid*) the surface of the earth's gravity field, which approximates mean sea level\n",
    "- **spheroid** or **ellipsoid** (interchangeable terms): a model that smoothly approximates the geoid\n",
    "- **datum**: based on spheroid but incorporates local variations in the shape of the Earth. Used to describe a point on the Earth's surface, such as in latitude and longitude.\n",
    "  - WGS84 (World Geodetic Survey 1984 datum) uses the WGS84 spheroid\n",
    "  - The latitude and longitude coordinates of some point differ slightly based on the datum. GPS uses WGS84.\n",
    "- **coordinate reference system** (CRS) or spatial reference system (SRS): a series of parameters that [define](http://spatialreference.org/) the coordinate system and spatial extent (aka, domain) of some dataset.\n",
    "- **geographic coordinate system** (GCS): specifies a datum, spheroid, units of measure (such as meters), and a prime meridian\n",
    "- **projected coordinate system** or map projection: projects a map of the Earth's 3-D spherical surface onto a flat surface that can be measured in units like meters. Here's a [list of projections](https://en.wikipedia.org/wiki/List_of_map_projections).\n",
    "- **eastings** and **northings**: the x and y coordinates of a projected map, usually measured in meters\n",
    "- **false origin**: the 0,0 origin point from which eastings and northings are measured on a map, usually the lower left corner rather than the center\n",
    "- **PROJ.4**: a library to convert/project spatial data with consistent CRS [parameter names](https://github.com/OSGeo/proj.4/wiki/GenParms)\n",
    "\n",
    "### Common CRS parameters (and their PROJ.4 names):\n",
    "\n",
    "- datum (datum)\n",
    "- ellipse (ellps)\n",
    "- projection (proj)\n",
    "  - the name of the projected coordinate system, such as Albers Equal Area (aea) or Lambert Conformal Conic (lcc)\n",
    "- standard parallels (lat_1, lat_2)\n",
    "  - where the projection surface touches the globe - at the standard parallels, the projection shows no distortion\n",
    "- central meridian and latitude of origin (lon_0, lat_0)\n",
    "  - the origin of the projection's x and y coordinates (eastings and northings) - usually the center of the map projection\n",
    "- false easting and false northing (x_0, y_0)\n",
    "  - offsets to add to all your eastings and northings - usually used to make all the coordinates on the map positive numbers by starting 0,0 at the lower left corner rather than the center of the map (see false origin, above)\n",
    "\n",
    "### Common projection types:\n",
    "\n",
    "- *equal area* projections: maintain area at the expense of shape, distance, and direction - such as the [Albers Equal Area](https://en.wikipedia.org/wiki/Albers_projection) projection\n",
    "- *conformal* projections: maintain shapes at the expense of area, distance, and direction - such as the [Lambert Conformal Conic](https://en.wikipedia.org/wiki/Lambert_conformal_conic_projection) projection\n",
    "- *equidistant* projections: [preserve distance](https://en.wikipedia.org/wiki/Map_projection#Equidistant) from one point or along all meridians and parallels\n",
    "- *azimuthal* projections: maintain direction from one point to all other points - such as an [orthographic](https://en.wikipedia.org/wiki/Orthographic_projection_in_cartography) projection\n",
    "- others compromise to minimize overall distortion or aim for aesthetic value - such as the [Robinson](https://en.wikipedia.org/wiki/Robinson_projection) projection"
   ]
  },
  {
   "cell_type": "markdown",
   "metadata": {},
   "source": [
    "## 2. Loading spatial data\n",
    "\n",
    "You can use a GIS like ArcGIS or QGIS to open a spatial data file (typically a shapefile, GeoJSON file, or CSV file with lat-long columns). Today we'll introduce the basic concepts of spatial data and GIS operations using [geopandas](http://geopandas.org/user.html), which spatializes pandas dataframes. It uses the [shapely](https://shapely.readthedocs.io/en/latest/manual.html) package for geometry. We'll focus on common, shared concepts and operations, rather than \"how-to\" in the user interface of a specific GIS program.\n",
    "\n",
    "### 2a. Loading a shapefile\n",
    "\n",
    "Where to get census shapefiles? https://www.census.gov/cgi-bin/geo/shapefiles/index.php\n",
    "\n",
    "The term \"shapefile\" is a misnomer... a shapefile is actually a folder containing multiple files that contain spatial geometry, attribute data, projection information, etc: https://en.wikipedia.org/wiki/Shapefile"
   ]
  },
  {
   "cell_type": "code",
   "execution_count": null,
   "metadata": {},
   "outputs": [],
   "source": [
    "# tell geopandas to read a shapefile with its read_file() function, passing in the shapefile folder\n",
    "# this produces a GeoDataFrame\n",
    "gdf = gpd.read_file('../data/tl_2017_06_tract/')\n",
    "gdf.shape"
   ]
  },
  {
   "cell_type": "code",
   "execution_count": null,
   "metadata": {},
   "outputs": [],
   "source": [
    "# just like regular pandas, see the first 5 rows of the GeoDataFrame\n",
    "# this is a shapefile of polygon geometries, that is, tract boundaries\n",
    "gdf.head()"
   ]
  },
  {
   "cell_type": "code",
   "execution_count": null,
   "metadata": {},
   "outputs": [],
   "source": [
    "# mapping is as easy as calling the GeoDataFrame's plot method\n",
    "ax = gdf.plot()"
   ]
  },
  {
   "cell_type": "code",
   "execution_count": null,
   "metadata": {},
   "outputs": [],
   "source": [
    "# just like in regular pandas, we can filter and subset the GeoDataFrame\n",
    "# retain only tracts in LA, OC, Ventura counties\n",
    "counties = ['037', '059', '111']\n",
    "gdf_tracts = gdf[gdf['COUNTYFP'].isin(counties)]\n",
    "gdf_tracts.shape"
   ]
  },
  {
   "cell_type": "code",
   "execution_count": null,
   "metadata": {},
   "outputs": [],
   "source": [
    "# what is the CRS?\n",
    "# this derives from the shapefile's .prj file\n",
    "# always make sure the shapefile you load has prj info so you get a CRS attribute!\n",
    "gdf_tracts.crs"
   ]
  },
  {
   "cell_type": "markdown",
   "metadata": {},
   "source": [
    "### 2b. Loading a CSV file\n",
    "\n",
    "Often, you won't have a shapefile (which is explicitly spatial), but rather a CSV file which is implicitly spatial (contains lat-lng columns). If you're loading a CSV file (or other non-explicitly spatial file type) of lat-lng data:\n",
    "\n",
    "  1. first load the CSV file as a DataFrame the usual way with pandas\n",
    "  2. then create a new geopandas GeoDataFrame from your DataFrame\n",
    "  3. manually create a geometry column\n",
    "  4. set the CRS"
   ]
  },
  {
   "cell_type": "code",
   "execution_count": null,
   "metadata": {
    "collapsed": false,
    "jupyter": {
     "outputs_hidden": false
    }
   },
   "outputs": [],
   "source": [
    "# load rental listings data as a regular pandas dataframe\n",
    "df = pd.read_csv('../data/listings-la_oc_vc.csv')\n",
    "df.shape"
   ]
  },
  {
   "cell_type": "code",
   "execution_count": null,
   "metadata": {},
   "outputs": [],
   "source": [
    "# examine first five rows\n",
    "df.head()"
   ]
  },
  {
   "cell_type": "markdown",
   "metadata": {},
   "source": [
    "**Always define the CRS** if you are manually creating a GeoDataFrame! Earlier, when we loaded the shapefile, geopandas loaded the CRS from the shapefile itself. But our CSV file is not explicitly spatial and it contains no CRS data, so we have to tell it what it is. In our case, the CRS is EPSG:4326, which is WGS84 lat-lng data, such as for GPS. Your data source should always tell you what CRS their coordinates are in. If they don't, ask! Don't just guess."
   ]
  },
  {
   "cell_type": "code",
   "execution_count": null,
   "metadata": {},
   "outputs": [],
   "source": [
    "# create a new geopandas geodataframe manually from the pandas dataframe\n",
    "gdf_listings = gpd.GeoDataFrame(df)\n",
    "gdf_listings.shape"
   ]
  },
  {
   "cell_type": "code",
   "execution_count": null,
   "metadata": {},
   "outputs": [],
   "source": [
    "# create a geometry column in our listings dataset to contain shapely geometry for geopandas to use\n",
    "# notice the shapely points are represented as lng, lat so that they are equivalent to x, y\n",
    "# notice that i'm setting the CRS\n",
    "geometry = gpd.points_from_xy(x=gdf_listings['longitude'], y=gdf_listings['latitude'])\n",
    "gdf_listings['geometry'] = geometry\n",
    "gdf_listings.crs = 'epsg:4326'\n",
    "gdf_listings.shape"
   ]
  },
  {
   "cell_type": "code",
   "execution_count": null,
   "metadata": {},
   "outputs": [],
   "source": [
    "gdf_listings.head()"
   ]
  },
  {
   "cell_type": "code",
   "execution_count": null,
   "metadata": {},
   "outputs": [],
   "source": [
    "# what's the CRS\n",
    "gdf_listings.crs"
   ]
  },
  {
   "cell_type": "markdown",
   "metadata": {},
   "source": [
    "## 3. Projection, part I\n",
    "\n",
    "Your datasets need to be in the same CRS if you want to work with them together. If they're not, then project one or both of them so they're in the same CRS."
   ]
  },
  {
   "cell_type": "code",
   "execution_count": null,
   "metadata": {},
   "outputs": [],
   "source": [
    "gdf_tracts.crs == gdf_listings.crs"
   ]
  },
  {
   "cell_type": "code",
   "execution_count": null,
   "metadata": {},
   "outputs": [],
   "source": [
    "# project the tracts geodataframe to the CRS of the listings geodataframe\n",
    "gdf_tracts = gdf_tracts.to_crs(gdf_listings.crs)\n",
    "gdf_tracts.crs == gdf_listings.crs"
   ]
  },
  {
   "cell_type": "markdown",
   "metadata": {},
   "source": [
    "**Be careful**: heed the difference between `gdf.crs` and `gdf.to_crs()`. The first tells you the geodataframe's current CRS. The latter projects the geodataframe to a new CRS."
   ]
  },
  {
   "cell_type": "markdown",
   "metadata": {},
   "source": [
    "## 4. Geometric operations\n",
    "\n",
    "GIS and spatial analysis use common \"computational geometry\" operations like intersects, within, and dissolve.\n",
    "\n",
    "  - *intersects* tells you if each geometry in one dataset intersects with some other (single) geometry\n",
    "  - *within* tells you if each geometry in one dataset is within some other (single) geometry\n",
    "  - *dissolve* lets you aggregate data (merge their geometries together) if they share some attribute in common: this is the spatial equivalent of pandas's groupby function\n",
    "  \n",
    "Many other operations exist in the world of GIS, but these are among the most common and useful."
   ]
  },
  {
   "cell_type": "markdown",
   "metadata": {},
   "source": [
    "### 4a. intersects\n",
    "\n",
    "Example: I want to find all the tracts that have at least 1 rental listing within their boundaries. So, I'm going to intersect the tracts with a single geometry object that represents all the listings."
   ]
  },
  {
   "cell_type": "code",
   "execution_count": null,
   "metadata": {},
   "outputs": [],
   "source": [
    "# create a single, unified MultiPoint object containing all the listings' geometries\n",
    "# use geopandas unary_union attribute to get a single geometry object representing all the points\n",
    "unified_listings = gdf_listings['geometry'].unary_union\n",
    "type(unified_listings)"
   ]
  },
  {
   "cell_type": "code",
   "execution_count": null,
   "metadata": {},
   "outputs": [],
   "source": [
    "unified_listings"
   ]
  },
  {
   "cell_type": "code",
   "execution_count": null,
   "metadata": {
    "collapsed": false,
    "jupyter": {
     "outputs_hidden": false
    }
   },
   "outputs": [],
   "source": [
    "# get the tracts that spatially-intersect with anything in the listings dataset\n",
    "mask = gdf_tracts.intersects(unified_listings)\n",
    "gdf_tracts[mask].shape"
   ]
  },
  {
   "cell_type": "code",
   "execution_count": null,
   "metadata": {
    "collapsed": false,
    "jupyter": {
     "outputs_hidden": false
    }
   },
   "outputs": [],
   "source": [
    "# how many tracts didn't intersect any rental listings?\n",
    "gdf_tracts[~mask].shape"
   ]
  },
  {
   "cell_type": "markdown",
   "metadata": {},
   "source": [
    "### 4b. dissolve\n",
    "\n",
    "Example: I want to merge all the tracts in each county to aggregate them up to the county level. This will merge all tract-level geometries into new county-level geometries."
   ]
  },
  {
   "cell_type": "code",
   "execution_count": null,
   "metadata": {},
   "outputs": [],
   "source": [
    "# dissolve lets you aggregate data based on shared values in some column, such as county fips codes\n",
    "gdf_tracts.head()"
   ]
  },
  {
   "cell_type": "code",
   "execution_count": null,
   "metadata": {},
   "outputs": [],
   "source": [
    "# dissolve the tracts into counties\n",
    "# aggregate their numerical columns by summing them\n",
    "gdf_counties = gdf_tracts.dissolve('COUNTYFP', aggfunc='sum')\n",
    "gdf_counties"
   ]
  },
  {
   "cell_type": "code",
   "execution_count": null,
   "metadata": {},
   "outputs": [],
   "source": [
    "# quick and dirty map of our 3 counties\n",
    "ax = gdf_counties.plot(cmap='plasma')"
   ]
  },
  {
   "cell_type": "markdown",
   "metadata": {},
   "source": [
    "### 4c. within\n",
    "\n",
    "Example: I want to find all the rental listings in Orange County. But my rental listings don't contain any explicit tract or county information: they only tell me lat-long. But I can use those lat-long coordinates to find which listings fall *within* the geometry (spatial boundary) of Orange County."
   ]
  },
  {
   "cell_type": "code",
   "execution_count": null,
   "metadata": {},
   "outputs": [],
   "source": [
    "# get orange county's geometry\n",
    "oc_geometry = gdf_counties.loc['059', 'geometry']\n",
    "type(oc_geometry)"
   ]
  },
  {
   "cell_type": "code",
   "execution_count": null,
   "metadata": {},
   "outputs": [],
   "source": [
    "oc_geometry"
   ]
  },
  {
   "cell_type": "code",
   "execution_count": null,
   "metadata": {},
   "outputs": [],
   "source": [
    "# find all the listings within orange county\n",
    "mask = gdf_listings.within(oc_geometry)\n",
    "oc_listings = gdf_listings[mask]\n",
    "oc_listings.shape"
   ]
  },
  {
   "cell_type": "markdown",
   "metadata": {},
   "source": [
    "## 5. Projection, part II"
   ]
  },
  {
   "cell_type": "code",
   "execution_count": null,
   "metadata": {},
   "outputs": [],
   "source": [
    "# map the OC rental listings\n",
    "ax = oc_listings.plot()"
   ]
  },
  {
   "cell_type": "code",
   "execution_count": null,
   "metadata": {},
   "outputs": [],
   "source": [
    "oc_listings.head()"
   ]
  },
  {
   "cell_type": "code",
   "execution_count": null,
   "metadata": {
    "collapsed": false,
    "jupyter": {
     "outputs_hidden": false
    }
   },
   "outputs": [],
   "source": [
    "# you can easily calculate buffers\n",
    "# buffer creates a polygon around your geometry with some specified distance\n",
    "oc_listings_buffered = oc_listings.buffer(distance=0.1) #what are these units? 0.1 what?\n",
    "oc_listings_buffered.head()"
   ]
  },
  {
   "cell_type": "code",
   "execution_count": null,
   "metadata": {},
   "outputs": [],
   "source": [
    "ax = oc_listings_buffered.plot(edgecolor='k', alpha=0.3)"
   ]
  },
  {
   "cell_type": "markdown",
   "metadata": {},
   "source": [
    "But these buffers are weird because the data are not projected. They're all in lat-long degrees. Let's project it to a **projected coordinate system**.\n",
    "\n",
    "You need to look up an appropriate projection for the spatial extents of your data/map. This is a huge topic in and of itself, so for today we'll just focus on some (over-simplified) rules of thumb:\n",
    "\n",
    "  1. If you're mapping global data, choose a global projection like [Mercator](https://spatialreference.org/ref/sr-org/16/) or [Robinson](https://spatialreference.org/ref/esri/54030/)\n",
    "  2. If you're mapping national data, choose a national projection like [epsg:2163](https://spatialreference.org/ref/epsg/2163/) for the US\n",
    "  3. If you're mapping regional data, choose a local projection, like [UTM zone 11N](https://spatialreference.org/ref/epsg/32611/) for Southern California:\n",
    "  \n",
    "![](img/utm_zones.png)\n",
    "\n",
    "https://spatialreference.org/ is a good resource. There you can click the \"proj4\" link on any CRS's page to get a string you can use with geopandas."
   ]
  },
  {
   "cell_type": "code",
   "execution_count": null,
   "metadata": {},
   "outputs": [],
   "source": [
    "# plot the tracts, then the listings on top of them\n",
    "ax = gdf_tracts.plot()\n",
    "ax = gdf_listings.plot(ax=ax, c='r', markersize=1)"
   ]
  },
  {
   "cell_type": "code",
   "execution_count": null,
   "metadata": {},
   "outputs": [],
   "source": [
    "# define a CRS appropriate for projecting USA data\n",
    "usa_crs = 'epsg:2163'\n",
    "gdf_tracts = gdf_tracts.to_crs(usa_crs)\n",
    "gdf_listings = gdf_listings.to_crs(usa_crs)"
   ]
  },
  {
   "cell_type": "code",
   "execution_count": null,
   "metadata": {},
   "outputs": [],
   "source": [
    "# plot the projected tracts + listings\n",
    "ax = gdf_tracts.plot()\n",
    "ax = gdf_listings.plot(ax=ax, c='r', markersize=1)"
   ]
  },
  {
   "cell_type": "code",
   "execution_count": null,
   "metadata": {},
   "outputs": [],
   "source": [
    "# specify a projection manually with a proj4 string\n",
    "# we'll map with UTM zone 11 which is good for Southern California (see link above)\n",
    "utm_11 = '+proj=utm +zone=11 +ellps=WGS84 +datum=WGS84 +units=m +no_defs'\n",
    "gdf_tracts = gdf_tracts.to_crs(utm_11)\n",
    "gdf_listings = gdf_listings.to_crs(utm_11)"
   ]
  },
  {
   "cell_type": "code",
   "execution_count": null,
   "metadata": {},
   "outputs": [],
   "source": [
    "ax = gdf_tracts.plot()\n",
    "ax = gdf_listings.plot(ax=ax, c='r', markersize=1)"
   ]
  },
  {
   "cell_type": "code",
   "execution_count": null,
   "metadata": {},
   "outputs": [],
   "source": [
    "# buffer listings by 5km then plot again\n",
    "ax = gdf_tracts.plot()\n",
    "ax = gdf_listings.buffer(5000).plot(ax=ax, fc='r')"
   ]
  },
  {
   "cell_type": "markdown",
   "metadata": {},
   "source": [
    "So that's our projected data and shapefile. Notice how the shape has changed, and how the units make more sense: they are in meters now. So our buffers are a 5km radius from each point. Buffers are useful for tasks like, for example, finding all the transit stations within 1km of a census tract."
   ]
  },
  {
   "cell_type": "markdown",
   "metadata": {},
   "source": [
    "## 6. Non-spatial merge vs spatial joins\n",
    "\n",
    "### 6a. Quick review of pandas (non-spatial) merge\n",
    "\n",
    "Joins two dataframes based on some column they have in common."
   ]
  },
  {
   "cell_type": "code",
   "execution_count": null,
   "metadata": {},
   "outputs": [],
   "source": [
    "# load the CA tract-level census data from previous weeks\n",
    "tract_indicators = pd.read_csv('../data/census_tracts_data_ca.csv', dtype={'GEOID10':str})\n",
    "tract_indicators.shape"
   ]
  },
  {
   "cell_type": "code",
   "execution_count": null,
   "metadata": {},
   "outputs": [],
   "source": [
    "# 5 rows of the tracts census data\n",
    "tract_indicators.head()"
   ]
  },
  {
   "cell_type": "code",
   "execution_count": null,
   "metadata": {},
   "outputs": [],
   "source": [
    "# 5 rows of the tracts shapefile\n",
    "gdf_tracts.head()"
   ]
  },
  {
   "cell_type": "code",
   "execution_count": null,
   "metadata": {},
   "outputs": [],
   "source": [
    "# merge the 2 datasets on a shared column: tract fips code\n",
    "gdf_tracts_ind = pd.merge(left=gdf_tracts, right=tract_indicators, how='left', left_on='GEOID', right_on='GEOID10')\n",
    "gdf_tracts_ind.head()"
   ]
  },
  {
   "cell_type": "code",
   "execution_count": null,
   "metadata": {},
   "outputs": [],
   "source": [
    "# merging a dataframe (right) into a (left) geodataframe, we got a geodataframe back and kept our CRS\n",
    "gdf_tracts_ind.crs"
   ]
  },
  {
   "cell_type": "markdown",
   "metadata": {},
   "source": [
    "### 6b. Geopandas spatial join\n",
    "\n",
    "Joins two geodataframes based on some shared spatial location. Let's say I want to know which county each rental listing is in: I need to *join* the listings to the county that each listing is within, using the gdf_counties GeoDataFrame we created earlier by dissolving the tracts."
   ]
  },
  {
   "cell_type": "code",
   "execution_count": null,
   "metadata": {},
   "outputs": [],
   "source": [
    "# remember (again): always double-check CRS before any spatial operations\n",
    "gdf_listings.crs == gdf_counties.crs"
   ]
  },
  {
   "cell_type": "code",
   "execution_count": null,
   "metadata": {},
   "outputs": [],
   "source": [
    "# they don't match, so project the counties to the CRS of the listings\n",
    "gdf_counties = gdf_counties.to_crs(gdf_listings.crs)\n",
    "gdf_listings.crs == gdf_counties.crs"
   ]
  },
  {
   "cell_type": "code",
   "execution_count": null,
   "metadata": {},
   "outputs": [],
   "source": [
    "# spatial join listings to counties\n",
    "# this is a left-join to ensure we retain all the listings in our resulting merged dataset\n",
    "gdf_listings_counties = gpd.sjoin(gdf_listings, gdf_counties, how='left', op='within')\n",
    "gdf_listings_counties.shape"
   ]
  },
  {
   "cell_type": "code",
   "execution_count": null,
   "metadata": {},
   "outputs": [],
   "source": [
    "# what did it do? inspect first 5 rows of listings\n",
    "gdf_listings_counties.head()"
   ]
  },
  {
   "cell_type": "code",
   "execution_count": null,
   "metadata": {},
   "outputs": [],
   "source": [
    "# give \"index_right\" a more sensible column name\n",
    "gdf_listings_counties = gdf_listings_counties.rename(columns={'index_right':'county'})\n",
    "gdf_listings_counties.head()"
   ]
  },
  {
   "cell_type": "code",
   "execution_count": null,
   "metadata": {},
   "outputs": [],
   "source": [
    "groups = gdf_listings_counties.groupby('county')"
   ]
  },
  {
   "cell_type": "code",
   "execution_count": null,
   "metadata": {},
   "outputs": [],
   "source": [
    "# which counties have the highest median asking rents?\n",
    "groups['rent'].median().sort_values(ascending=False)"
   ]
  },
  {
   "cell_type": "code",
   "execution_count": null,
   "metadata": {},
   "outputs": [],
   "source": [
    "# which counties have the most bedrooms per unit in the listings?\n",
    "groups['bedrooms'].mean().sort_values(ascending=False)"
   ]
  },
  {
   "cell_type": "code",
   "execution_count": null,
   "metadata": {},
   "outputs": [],
   "source": [
    "# which tracts have the most listings?\n",
    "groups['geometry'].count().sort_values(ascending=False)"
   ]
  },
  {
   "cell_type": "code",
   "execution_count": null,
   "metadata": {},
   "outputs": [],
   "source": [
    "# create a subset of only those listings in orange county\n",
    "# equivalent to gdf_listings.within(oc_geometry) from earlier\n",
    "oc_listings = gdf_listings_counties[gdf_listings_counties['county']=='059']\n",
    "oc_listings.shape"
   ]
  },
  {
   "cell_type": "markdown",
   "metadata": {},
   "source": [
    "## 7. Mapping"
   ]
  },
  {
   "cell_type": "code",
   "execution_count": null,
   "metadata": {},
   "outputs": [],
   "source": [
    "# get the merged tracts + indicators that are in OC\n",
    "oc_tracts_ind = gdf_tracts_ind[gdf_tracts_ind['COUNTYFP']=='059']\n",
    "oc_tracts_ind.head()"
   ]
  },
  {
   "cell_type": "code",
   "execution_count": null,
   "metadata": {},
   "outputs": [],
   "source": [
    "# drop the tract that has 0 land area... it's just in the ocean\n",
    "# census bureau uses these to represent territory boundary without making on-land tracts extend out into ocean\n",
    "oc_tracts_ind = oc_tracts_ind[oc_tracts_ind['ALAND'] > 0]"
   ]
  },
  {
   "cell_type": "code",
   "execution_count": null,
   "metadata": {},
   "outputs": [],
   "source": [
    "# map using GeoDataFrame plot method with some style configurations\n",
    "ax = oc_tracts_ind.plot(column='med_household_income',\n",
    "                        cmap='plasma', edgecolor='k', lw=0.2,\n",
    "                        figsize=(9,6), legend=True)\n",
    "\n",
    "# turn the \"axis\" off and save to disk\n",
    "ax.axis('off')\n",
    "ax.get_figure().savefig('oc-income.png', dpi=300, bbox_inches='tight')"
   ]
  },
  {
   "cell_type": "code",
   "execution_count": null,
   "metadata": {},
   "outputs": [],
   "source": [
    "# map a different column\n",
    "ax = oc_tracts_ind.plot(column='pct_english_only',\n",
    "                        cmap='plasma', edgecolor='k', lw=0.2,\n",
    "                        figsize=(9,6), legend=True)\n",
    "ax.axis('off')\n",
    "ax.get_figure().savefig('oc-language.png', dpi=300, bbox_inches='tight')"
   ]
  },
  {
   "cell_type": "code",
   "execution_count": null,
   "metadata": {},
   "outputs": [],
   "source": [
    "# map tracts as a basemap with listings as points on top\n",
    "ax = oc_tracts_ind.plot(facecolor='#aaaaaa', edgecolor='w', lw=0.5,\n",
    "                        figsize=(12,9), legend=False)\n",
    "\n",
    "# now plot listings, colored by asking rent\n",
    "ax = oc_listings.dropna().plot(ax=ax, markersize=10, legend=True,\n",
    "                               cmap='plasma', column='rent', scheme='Quantiles')\n",
    "ax.axis('off')\n",
    "ax.set_title('Apartment Listings in Orange County by Asking Rent (USD)')\n",
    "ax.get_figure().savefig('oc-listings.png', dpi=300, bbox_inches='tight')"
   ]
  },
  {
   "cell_type": "code",
   "execution_count": null,
   "metadata": {},
   "outputs": [],
   "source": [
    "# now it's your turn\n",
    "# make the plot above more effective and accessible using the visualization best practices you have read about\n"
   ]
  }
 ],
 "metadata": {
  "kernelspec": {
   "display_name": "Python 3",
   "language": "python",
   "name": "python3"
  },
  "language_info": {
   "codemirror_mode": {
    "name": "ipython",
    "version": 3
   },
   "file_extension": ".py",
   "mimetype": "text/x-python",
   "name": "python",
   "nbconvert_exporter": "python",
   "pygments_lexer": "ipython3",
   "version": "3.9.1"
  }
 },
 "nbformat": 4,
 "nbformat_minor": 4
}
